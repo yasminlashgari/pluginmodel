{
 "cells": [
  {
   "cell_type": "code",
   "execution_count": 7,
   "metadata": {},
   "outputs": [],
   "source": [
    "from anytree import Node, RenderTree\n",
    "import math\n",
    "from scipy.stats import norm"
   ]
  },
  {
   "cell_type": "code",
   "execution_count": null,
   "metadata": {},
   "outputs": [],
   "source": [
    "#Q1 A"
   ]
  },
  {
   "cell_type": "code",
   "execution_count": 8,
   "metadata": {},
   "outputs": [],
   "source": [
    "#laying out basic information \n",
    "t = 1116 #number of years (93) times the number of months\n",
    "h= 360 #investment horizon\n",
    "u= 0.00767 #sample mean\n",
    "sigma= 0.05323 #sample standard deviation"
   ]
  },
  {
   "cell_type": "code",
   "execution_count": 19,
   "metadata": {},
   "outputs": [
    {
     "name": "stdout",
     "output_type": "stream",
     "text": [
      "The plug-in estimate is 26.343404024478303\n"
     ]
    }
   ],
   "source": [
    "#finding estimate for plug in model\n",
    "part1= 360*u\n",
    "variance= sigma**2\n",
    "variance2= 360*variance\n",
    "part2= (360*variance)/2\n",
    "\n",
    "estimate= math.exp(part1 + part2)\n",
    "\n",
    "print(\"The plug-in estimate is \" + str(estimate))\n"
   ]
  },
  {
   "cell_type": "code",
   "execution_count": 22,
   "metadata": {},
   "outputs": [
    {
     "name": "stdout",
     "output_type": "stream",
     "text": [
      "The tenth percentile is 4.335659021209588\n"
     ]
    }
   ],
   "source": [
    "#plug-in estimate for 10th percentile \n",
    "t= norm.ppf(0.1)\n",
    "tenth= part1 + (t*math.sqrt(variance2))\n",
    "t1= math.exp(tenth)\n",
    "\n",
    "print(\"The 10th percentile is \" + str(t1))\n"
   ]
  },
  {
   "cell_type": "code",
   "execution_count": 24,
   "metadata": {},
   "outputs": [
    {
     "name": "stdout",
     "output_type": "stream",
     "text": [
      "The 50th percentile is 15.818814140236954\n"
     ]
    }
   ],
   "source": [
    "#plug-in estimate for 50th percentile \n",
    "fif= norm.ppf(0.5)\n",
    "fift= part1+(fif*math.sqrt(variance2))\n",
    "f2= math.exp(fift)\n",
    "\n",
    "print(\"The 50th percentile is \" + str(f2))\n"
   ]
  },
  {
   "cell_type": "code",
   "execution_count": 25,
   "metadata": {},
   "outputs": [
    {
     "name": "stdout",
     "output_type": "stream",
     "text": [
      "The 90th percentile is 57.71553518836189\n"
     ]
    }
   ],
   "source": [
    "#plug-in estimate for 90th percentile \n",
    "nin= norm.ppf(0.9)\n",
    "nint= part1+(nin*math.sqrt(variance2))\n",
    "n2= math.exp(nint)\n",
    "\n",
    "print(\"The 90th percentile is \" + str(n2))"
   ]
  },
  {
   "cell_type": "code",
   "execution_count": 11,
   "metadata": {},
   "outputs": [
    {
     "name": "stdout",
     "output_type": "stream",
     "text": [
      "The unbiased estimate is 22.347087775057986\n"
     ]
    }
   ],
   "source": [
    "#Q1B \n",
    "#calculating unbiased estimate \n",
    "variance2= 360*variance\n",
    "mean= u - variance2/(2*t)\n",
    "\n",
    "estimate1= math.exp((360*mean) + part2)\n",
    "print(\"The unbiased estimate is \" + str(estimate1))"
   ]
  },
  {
   "cell_type": "code",
   "execution_count": 20,
   "metadata": {},
   "outputs": [],
   "source": [
    "#calulcating percentiles \n",
    "#10th percentile \n",
    "#replacing biased miu with unbiased miu\n",
    "mean1= 360*mean \n",
    "part8= norm.ppf(0.1)\n",
    "square= math.sqrt(360)\n"
   ]
  },
  {
   "cell_type": "code",
   "execution_count": 15,
   "metadata": {},
   "outputs": [
    {
     "name": "stdout",
     "output_type": "stream",
     "text": [
      "The 10th percentile is 3.677935950102083\n"
     ]
    }
   ],
   "source": [
    "a = math.exp(zsco)\n",
    "print(\"The 10th percentile is \" + str(a))"
   ]
  },
  {
   "cell_type": "code",
   "execution_count": 16,
   "metadata": {},
   "outputs": [
    {
     "name": "stdout",
     "output_type": "stream",
     "text": [
      "The 50th percentile is 13.419086909221267\n"
     ]
    }
   ],
   "source": [
    "#50th percentile: \n",
    "par= norm.ppf(0.5)\n",
    "\n",
    "fifty= mean1 + (par*math.sqrt(variance2))\n",
    "b= math.exp(fifty)\n",
    "print(\"The 50th percentile is \" + str(b))"
   ]
  },
  {
   "cell_type": "code",
   "execution_count": 18,
   "metadata": {},
   "outputs": [
    {
     "name": "stdout",
     "output_type": "stream",
     "text": [
      "The 90th percentile is 48.96004060979789\n"
     ]
    }
   ],
   "source": [
    "#90th percentile\n",
    "pa= norm.ppf(0.9)\n",
    "\n",
    "nine= mean1 + (pa*math.sqrt(variance2))\n",
    "c= math.exp(nine)\n",
    "\n",
    "print(\"The 90th percentile is \" + str(c))\n"
   ]
  },
  {
   "cell_type": "code",
   "execution_count": 4,
   "metadata": {},
   "outputs": [],
   "source": [
    "##Question 2 (A)"
   ]
  },
  {
   "cell_type": "code",
   "execution_count": 7,
   "metadata": {},
   "outputs": [],
   "source": [
    "#constructing the tree\n",
    "start = Node(\"Start\")\n",
    "fraud= Node(\"Fraud\", parent=start)\n",
    "nf=Node(\"No Fraud\", parent= start)\n",
    "b4=Node(\"Big four\", parent=fraud)\n",
    "o= Node(\"Other\", parent=fraud)\n",
    "p=Node(\"Positive\", parent=b4)\n",
    "n=Node(\"Negative\", parent=b4)\n",
    "p2=Node(\"Positive\", parent=o)\n",
    "n2= Node(\"Negative\", parent =o)\n",
    "\n",
    "bb4=Node(\"Big Four\", parent=nf)\n",
    "o2=Node(\"Other\", parent=nf)\n",
    "p3=Node(\"Positive\", parent=bb4)\n",
    "n3=Node(\"Negative\", parent=bb4)\n",
    "p4=Node(\"Positive\", parent=o2)\n",
    "n4= Node(\"Negative\", parent =o2)\n"
   ]
  },
  {
   "cell_type": "code",
   "execution_count": 8,
   "metadata": {},
   "outputs": [
    {
     "name": "stdout",
     "output_type": "stream",
     "text": [
      "Start\n",
      "├── Fraud\n",
      "│   ├── Big four\n",
      "│   │   ├── Positive\n",
      "│   │   └── Negative\n",
      "│   └── Other\n",
      "│       ├── Positive\n",
      "│       └── Negative\n",
      "└── No Fraud\n",
      "    ├── Big Four\n",
      "    │   ├── Positive\n",
      "    │   └── Negative\n",
      "    └── Other\n",
      "        ├── Positive\n",
      "        └── Negative\n"
     ]
    }
   ],
   "source": [
    " for pre, fill, node in RenderTree(start):\n",
    "    print(\"%s%s\" % (pre, node.name))\n",
    "    "
   ]
  },
  {
   "cell_type": "code",
   "execution_count": 19,
   "metadata": {},
   "outputs": [
    {
     "name": "stdout",
     "output_type": "stream",
     "text": [
      "The possibilty of a company with positive profit and audited by the big 4 commiting accounting fraud is 0.16806722689075632%\n"
     ]
    }
   ],
   "source": [
    "#using the tree, caclulate probabilities \n",
    "#possibility of being audited by big 4, and having postive profit and having account fraud:\n",
    "bpf= 0.1\n",
    "#possibilty of committing fruad \n",
    "f= 0.01\n",
    "#possibilty of not committing fruad\n",
    "nf= 0.99\n",
    "#possibilty of not committing fruad/being audited by big 4/positve profit\n",
    "bpnf= 0.6\n",
    "\n",
    "#calculating probability of fraud \n",
    "pfraud = (f*bpf)/((f*bpf)+(nf*bpnf))\n",
    "\n",
    "pfraud1= pfraud * 100 #calculate percentages\n",
    "print(\"The possibilty of a company with positive profit and audited by the big 4 commiting accounting fraud is \" + str(pfraud1) + \"\")"
   ]
  },
  {
   "cell_type": "code",
   "execution_count": 14,
   "metadata": {},
   "outputs": [],
   "source": [
    "#Question 2 (B)\n",
    "\n",
    "#constructing the tree\n",
    "start1= Node(\"Start\")\n",
    "buy= Node(\"Buy\", parent= start1)\n",
    "hold= Node(\"Hold\", parent= start1)\n",
    "sell= Node(\"Sell\", parent= start1)\n",
    "neg= Node(\"Negative\", parent= buy)\n",
    "pos= Node(\"Positive\", parent= buy)\n",
    "neg1= Node(\"Negative\", parent= hold)\n",
    "pos1= Node(\"Positive\", parent= hold)\n",
    "neg2= Node(\"Negative\", parent= sell)\n",
    "pos2= Node(\"Positive\", parent= sell)"
   ]
  },
  {
   "cell_type": "code",
   "execution_count": 15,
   "metadata": {},
   "outputs": [
    {
     "name": "stdout",
     "output_type": "stream",
     "text": [
      "Start\n",
      "├── Buy\n",
      "│   ├── Negative\n",
      "│   └── Positive\n",
      "├── Hold\n",
      "│   ├── Negative\n",
      "│   └── Positive\n",
      "└── Sell\n",
      "    ├── Negative\n",
      "    └── Positive\n"
     ]
    }
   ],
   "source": [
    " for pre, fill, node in RenderTree(start1):\n",
    "    print(\"%s%s\" % (pre, node.name))"
   ]
  },
  {
   "cell_type": "code",
   "execution_count": 5,
   "metadata": {},
   "outputs": [
    {
     "name": "stdout",
     "output_type": "stream",
     "text": [
      "The possibilty of having a sell rating if you have negative earnings is 26.470588235294112%\n"
     ]
    }
   ],
   "source": [
    "#probability of a sell rating\n",
    "ps= 0.15\n",
    "#probability of having negative earnings and sell rating\n",
    "pns= 0.3\n",
    "#probability of buy negative\n",
    "pbn= 0.45*0.1\n",
    "#probability of hold negative \n",
    "phn= 0.4*0.2\n",
    "#probability of sell negative\n",
    "pnn= 0.3*0.15\n",
    "\n",
    "#total probability of sell\n",
    "pn= pbn+phn+pnn\n",
    "\n",
    "#probability of having a sell earning dependent on negative earnings\n",
    "psell= (ps*pns)/pn\n",
    "psell1= psell*100\n",
    "\n",
    "print(\"The possibilty of having a sell rating if you have negative earnings is \" + str(psell1) + \"%\")"
   ]
  }
 ],
 "metadata": {
  "kernelspec": {
   "display_name": "Python 3",
   "language": "python",
   "name": "python3"
  },
  "language_info": {
   "codemirror_mode": {
    "name": "ipython",
    "version": 3
   },
   "file_extension": ".py",
   "mimetype": "text/x-python",
   "name": "python",
   "nbconvert_exporter": "python",
   "pygments_lexer": "ipython3",
   "version": "3.8.3"
  }
 },
 "nbformat": 4,
 "nbformat_minor": 4
}
